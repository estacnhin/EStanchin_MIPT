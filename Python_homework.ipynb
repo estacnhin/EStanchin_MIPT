{
 "cells": [
  {
   "cell_type": "markdown",
   "metadata": {},
   "source": [
    "Fizzbuzz question"
   ]
  },
  {
   "cell_type": "code",
   "execution_count": 4,
   "metadata": {
    "collapsed": false
   },
   "outputs": [
    {
     "name": "stdout",
     "output_type": "stream",
     "text": [
      "1\n",
      "2\n",
      "Fizz\n",
      "4\n",
      "Buzz\n",
      "Fizz\n",
      "7\n",
      "8\n",
      "Fizz\n",
      "Buzz\n",
      "11\n",
      "Fizz\n",
      "13\n",
      "14\n",
      "FizzBuzz\n",
      "16\n",
      "17\n",
      "Fizz\n",
      "19\n",
      "Buzz\n",
      "Fizz\n",
      "22\n",
      "23\n",
      "Fizz\n",
      "Buzz\n",
      "26\n",
      "Fizz\n",
      "28\n",
      "29\n",
      "FizzBuzz\n",
      "31\n",
      "32\n",
      "Fizz\n",
      "34\n",
      "Buzz\n",
      "Fizz\n",
      "37\n",
      "38\n",
      "Fizz\n",
      "Buzz\n",
      "41\n",
      "Fizz\n",
      "43\n",
      "44\n",
      "FizzBuzz\n",
      "46\n",
      "47\n",
      "Fizz\n",
      "49\n",
      "Buzz\n",
      "Fizz\n",
      "52\n",
      "53\n",
      "Fizz\n",
      "Buzz\n",
      "56\n",
      "Fizz\n",
      "58\n",
      "59\n",
      "FizzBuzz\n",
      "61\n",
      "62\n",
      "Fizz\n",
      "64\n",
      "Buzz\n",
      "Fizz\n",
      "67\n",
      "68\n",
      "Fizz\n",
      "Buzz\n",
      "71\n",
      "Fizz\n",
      "73\n",
      "74\n",
      "FizzBuzz\n",
      "76\n",
      "77\n",
      "Fizz\n",
      "79\n",
      "Buzz\n",
      "Fizz\n",
      "82\n",
      "83\n",
      "Fizz\n",
      "Buzz\n",
      "86\n",
      "Fizz\n",
      "88\n",
      "89\n",
      "FizzBuzz\n",
      "91\n",
      "92\n",
      "Fizz\n",
      "94\n",
      "Buzz\n",
      "Fizz\n",
      "97\n",
      "98\n",
      "Fizz\n",
      "Buzz\n"
     ]
    }
   ],
   "source": [
    "for i in range(1, 101):\n",
    "    if i % 3 == 0 and i % 5 == 0:\n",
    "        print('FizzBuzz')\n",
    "    elif i % 3 == 0:\n",
    "        print('Fizz')\n",
    "    elif i % 5 == 0:\n",
    "        print('Buzz')\n",
    "    else:\n",
    "        print(i)"
   ]
  },
  {
   "cell_type": "markdown",
   "metadata": {},
   "source": [
    "Числа Фиббоначи"
   ]
  },
  {
   "cell_type": "code",
   "execution_count": 11,
   "metadata": {
    "collapsed": false
   },
   "outputs": [
    {
     "name": "stdout",
     "output_type": "stream",
     "text": [
      "354224848179261915075\n"
     ]
    }
   ],
   "source": [
    "fibb = [0, 1] // если считать 0 нулевым числом\n",
    "for i in range(2, 101):\n",
    "    fibb += [fibb[i - 1] + fibb[i - 2]]\n",
    "print(fibb[100])"
   ]
  },
  {
   "cell_type": "markdown",
   "metadata": {},
   "source": [
    "Quick Sort"
   ]
  },
  {
   "cell_type": "code",
   "execution_count": 28,
   "metadata": {
    "collapsed": false
   },
   "outputs": [],
   "source": [
    "def qsort(mas):\n",
    "    more = []\n",
    "    less = []\n",
    "    equal = []\n",
    "    if len(mas) > 1:\n",
    "        pivot = mas[0]\n",
    "        for i in mas:\n",
    "            if i > pivot:\n",
    "                more += [i]\n",
    "            elif i == pivot:\n",
    "                equal += [i]\n",
    "            else:\n",
    "                less += [i]\n",
    "        return qsort(less) + equal + qsort(more)\n",
    "    else:\n",
    "        return mas"
   ]
  },
  {
   "cell_type": "code",
   "execution_count": 29,
   "metadata": {
    "collapsed": false
   },
   "outputs": [
    {
     "name": "stdout",
     "output_type": "stream",
     "text": [
      "[-4, -3, 0, 2, 2, 2, 3, 3, 4, 5, 6, 7]\n"
     ]
    }
   ],
   "source": [
    "mas = [4, 3, 7, 2, 5, 6, 0, 3, 2, -4, -3, 2]\n",
    "print(qsort(mas))"
   ]
  },
  {
   "cell_type": "markdown",
   "metadata": {},
   "source": [
    "NumPy"
   ]
  },
  {
   "cell_type": "code",
   "execution_count": 43,
   "metadata": {
    "collapsed": false
   },
   "outputs": [
    {
     "name": "stdout",
     "output_type": "stream",
     "text": [
      "100000 loops, best of 3: 17.8 µs per loop\n",
      "100000 loops, best of 3: 12 µs per loop\n",
      "The slowest run took 6.24 times longer than the fastest. This could mean that an intermediate result is being cached.\n",
      "100000 loops, best of 3: 7.68 µs per loop\n"
     ]
    }
   ],
   "source": [
    "def linspace1(a, b, n):\n",
    "    mas = []\n",
    "    d = (b - a) / (n - 1)\n",
    "    while(a <= b):\n",
    "        mas += [a]\n",
    "        a += d\n",
    "    return mas\n",
    "\n",
    "def linspace2(a, b, n):\n",
    "    d = (b - a) / (n - 1)\n",
    "    return [a + d * i for i in range(n)]\n",
    "\n",
    "import numpy as np\n",
    "\n",
    "%timeit linspace1(0, 1000, 50)\n",
    "%timeit linspace2(0, 1000, 50)\n",
    "%timeit np.linspace(0, 1000, 50)"
   ]
  },
  {
   "cell_type": "code",
   "execution_count": 55,
   "metadata": {
    "collapsed": false
   },
   "outputs": [],
   "source": [
    "a = [7 * i for i in range(100000)]\n",
    "b = np.array(a)"
   ]
  },
  {
   "cell_type": "code",
   "execution_count": 56,
   "metadata": {
    "collapsed": false
   },
   "outputs": [
    {
     "name": "stdout",
     "output_type": "stream",
     "text": [
      "10000000 loops, best of 3: 31.7 ns per loop\n",
      "10000000 loops, best of 3: 31.7 ns per loop\n"
     ]
    }
   ],
   "source": [
    "c = a * 80\n",
    "%timeit c\n",
    "\n",
    "d = b * 80\n",
    "%timeit d"
   ]
  },
  {
   "cell_type": "code",
   "execution_count": 59,
   "metadata": {
    "collapsed": false
   },
   "outputs": [
    {
     "name": "stdout",
     "output_type": "stream",
     "text": [
      "10 loops, best of 3: 112 ms per loop\n",
      "The slowest run took 5.14 times longer than the fastest. This could mean that an intermediate result is being cached.\n",
      "10000 loops, best of 3: 80.1 µs per loop\n"
     ]
    }
   ],
   "source": [
    "%timeit a + c\n",
    "%timeit b + d"
   ]
  },
  {
   "cell_type": "code",
   "execution_count": 121,
   "metadata": {
    "collapsed": false
   },
   "outputs": [
    {
     "data": {
      "image/png": "[encoded data removed]",
      "text/plain": [
       "<matplotlib.figure.Figure at 0x212b94ebf28>"
      ]
     },
     "metadata": {},
     "output_type": "display_data"
    },
    {
     "data": {
      "image/png": "[encoded data removed]",
      "text/plain": [
       "<matplotlib.figure.Figure at 0x212ba623668>"
      ]
     },
     "metadata": {},
     "output_type": "display_data"
    }
   ],
   "source": [
    "%matplotlib inline\n",
    "from matplotlib import pylab as plt\n",
    "\n",
    "x_min = -10\n",
    "x_max = 10\n",
    "dx = 0.1\n",
    "x = np.arange(x_min, x_max, dx)\n",
    "\n",
    "y1 = x ** 2 - 30\n",
    "y2 = np.sin(x) * 20\n",
    "y3 = np.exp(x / 2)\n",
    "line1 = plt.plot(x, y1)\n",
    "line2 = plt.plot(x, y2)\n",
    "line3 = plt.plot(x, y3)\n",
    "plt.xlabel('Value for X')\n",
    "plt.ylabel('Value for Y')\n",
    "plt.savefig('graf1.png', format='png', dpi=100)\n",
    "plt.show()\n",
    "\n",
    "\n",
    "y1 = x\n",
    "y2 = 2 * x\n",
    "plt.plot(x, y1)\n",
    "plt.plot(x, y2)\n",
    "plt.xlabel('Value for X')\n",
    "plt.ylabel('Value for Y')\n",
    "plt.savefig('graf2.png', format='png', dpi=100)\n",
    "plt.show()\n"
   ]
  },
  {
   "cell_type": "markdown",
   "metadata": {},
   "source": [
    "SciPy"
   ]
  },
  {
   "cell_type": "code",
   "execution_count": 12,
   "metadata": {
    "collapsed": false
   },
   "outputs": [
    {
     "name": "stdout",
     "output_type": "stream",
     "text": [
      "Исходная матрица\n",
      "[[-0.09 -0.97  0.97  1.26 -0.81]\n",
      " [-1.31  0.15  0.32 -0.41 -0.25]\n",
      " [-0.94  1.37  2.54 -0.69  2.26]\n",
      " [ 0.38  1.61  0.29 -2.51 -1.7 ]\n",
      " [-0.44 -0.67  0.57  0.72  1.27]]\n",
      "\n",
      "Собственные значения\n",
      "[-2.62+0.j    2.93+0.j    0.95+0.87j  0.95-0.87j -0.86+0.j  ]\n",
      "\n",
      "Собственные вектора\n",
      "[[ 0.59+0.j   -0.23+0.j    0.57+0.j    0.57-0.j    0.29+0.j  ]\n",
      " [ 0.21+0.j    0.02+0.j   -0.35+0.41j -0.35-0.41j  0.72+0.j  ]\n",
      " [-0.16+0.j   -0.94+0.j    0.35+0.3j   0.35-0.3j  -0.18+0.j  ]\n",
      " [-0.72+0.j    0.02+0.j   -0.03+0.33j -0.03-0.33j  0.59+0.j  ]\n",
      " [ 0.26+0.j   -0.26+0.j    0.08-0.22j  0.08+0.22j  0.13+0.j  ]]\n",
      "\n",
      "[[-0.+0.j -0.+0.j  0.+0.j -0.+0.j  0.+0.j]]\n",
      "\n",
      "[[ 0.+0.j -0.+0.j -0.+0.j -0.+0.j -0.+0.j]]\n",
      "\n",
      "[[ 0.+0.j -0.-0.j  0.-0.j  0.+0.j  0.-0.j]]\n",
      "\n",
      "[[ 0.+0.j -0.+0.j  0.+0.j  0.-0.j  0.+0.j]]\n",
      "\n",
      "[[ 0.+0.j -0.+0.j -0.+0.j -0.+0.j -0.+0.j]]\n",
      "\n"
     ]
    }
   ],
   "source": [
    "import numpy as np\n",
    "import scipy as sp\n",
    "from scipy import linalg as la\n",
    "\n",
    "A = sp.mat([[sp.random.normal() for i in range(5)] for j in range(5)])\n",
    "print('Исходная матрица')\n",
    "print(np.around(A, 2))\n",
    "print()\n",
    "vals,vectors=la.eig(A)\n",
    "\n",
    "print('Собственные значения')\n",
    "print(np.around(vals, 2))\n",
    "print()\n",
    "print('Собственные вектора')\n",
    "print(np.around(vectors, 2))\n",
    "print()\n",
    "for i in range(5):\n",
    "    print(np.around((np.dot(A, vectors[:, i]))-(vectors[:, i] * vals[i]), 2))\n",
    "    print()"
   ]
  }
 ],
 "metadata": {
  "kernelspec": {
   "display_name": "Python 3",
   "language": "python",
   "name": "python3"
  },
  "language_info": {
   "codemirror_mode": {
    "name": "ipython",
    "version": 3
   },
   "file_extension": ".py",
   "mimetype": "text/x-python",
   "name": "python",
   "nbconvert_exporter": "python",
   "pygments_lexer": "ipython3",
   "version": "3.5.2"
  }
 },
 "nbformat": 4,
 "nbformat_minor": 0
}
